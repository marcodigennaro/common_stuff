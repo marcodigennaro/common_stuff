{
 "cells": [
  {
   "cell_type": "code",
   "execution_count": 14,
   "id": "08970daf-1a80-4d5a-baab-4ca1f59f72a4",
   "metadata": {},
   "outputs": [
    {
     "data": {
      "application/vnd.jupyter.widget-view+json": {
       "model_id": "370b8d62eaac4fbbb479a7b995f210eb",
       "version_major": 2,
       "version_minor": 0
      },
      "text/plain": [
       "Retrieving MaterialsDoc documents:   0%|          | 0/1 [00:00<?, ?it/s]"
      ]
     },
     "metadata": {},
     "output_type": "display_data"
    },
    {
     "data": {
      "text/plain": [
       "Structure Summary\n",
       "Lattice\n",
       "    abc : 3.91270131 3.91270131 3.91270131\n",
       " angles : 90.0 90.0 90.0\n",
       " volume : 59.90045030664282\n",
       "      A : 3.91270131 0.0 -0.0\n",
       "      B : -0.0 3.91270131 0.0\n",
       "      C : 0.0 0.0 3.91270131\n",
       "    pbc : True True True\n",
       "PeriodicSite: Sr (0.0, 0.0, 0.0) [-0.0, -0.0, -0.0]\n",
       "PeriodicSite: Ti (1.956, 1.956, 1.956) [0.5, 0.5, 0.5]\n",
       "PeriodicSite: O (1.956, 0.0, 1.956) [0.5, -0.0, 0.5]\n",
       "PeriodicSite: O (1.956, 1.956, 0.0) [0.5, 0.5, -0.0]\n",
       "PeriodicSite: O (0.0, 1.956, 1.956) [-0.0, 0.5, 0.5]"
      ]
     },
     "execution_count": 14,
     "metadata": {},
     "output_type": "execute_result"
    }
   ],
   "source": [
    "import warnings \n",
    "warnings.filterwarnings('ignore')\n",
    "MP_API_KEY = '53BTbrOLySCcqI9qgRVDNbItL0zA1JL0'\n",
    "\n",
    "from mp_api.client import MPRester\n",
    "mpr = MPRester(MP_API_KEY)\n",
    "        \n",
    "sto = mpr.get_structure_by_material_id(\"mp-5229\")\n",
    "sto.to(filename=\"sto.cif\")\n",
    "\n",
    "import nglview as nv\n",
    "nv.show_pymatgen(sto)\n",
    "\n",
    "sto"
   ]
  },
  {
   "cell_type": "code",
   "execution_count": 15,
   "id": "6e5c2667-4cf1-4ee1-8491-7860cab29939",
   "metadata": {},
   "outputs": [
    {
     "data": {
      "text/plain": [
       "('Pm-3m', 221)"
      ]
     },
     "execution_count": 15,
     "metadata": {},
     "output_type": "execute_result"
    }
   ],
   "source": [
    "dir(sto)\n",
    "sto.get_space_group_info()"
   ]
  },
  {
   "cell_type": "code",
   "execution_count": 2,
   "id": "97f43886-198d-4b1b-a406-56ce68478eec",
   "metadata": {},
   "outputs": [
    {
     "data": {
      "text/plain": [
       "Structure Summary\n",
       "Lattice\n",
       "    abc : 7.82540262 7.82540262 7.82540262\n",
       " angles : 90.0 90.0 90.0\n",
       " volume : 479.20360245314254\n",
       "      A : 7.82540262 0.0 4.791677135311156e-16\n",
       "      B : -4.791677135311156e-16 7.82540262 4.791677135311156e-16\n",
       "      C : 0.0 0.0 7.82540262\n",
       "    pbc : True True True\n",
       "PeriodicSite: Sr0 (Sr) (0.0, 0.0, 0.0) [0.0, 0.0, 0.0]\n",
       "PeriodicSite: Sr0 (Sr) (0.0, 0.0, 3.913) [0.0, 0.0, 0.5]\n",
       "PeriodicSite: Sr0 (Sr) (-2.396e-16, 3.913, 2.396e-16) [0.0, 0.5, 0.0]\n",
       "PeriodicSite: Sr0 (Sr) (-2.396e-16, 3.913, 3.913) [0.0, 0.5, 0.5]\n",
       "PeriodicSite: Sr0 (Sr) (3.913, 0.0, 2.396e-16) [0.5, 0.0, 0.0]\n",
       "PeriodicSite: Sr0 (Sr) (3.913, 0.0, 3.913) [0.5, 0.0, 0.5]\n",
       "PeriodicSite: Sr0 (Sr) (3.913, 3.913, 4.792e-16) [0.5, 0.5, 1.233e-32]\n",
       "PeriodicSite: Sr0 (Sr) (3.913, 3.913, 3.913) [0.5, 0.5, 0.5]\n",
       "PeriodicSite: Ti1 (Ti) (1.956, 1.956, 1.956) [0.25, 0.25, 0.25]\n",
       "PeriodicSite: Ti1 (Ti) (1.956, 1.956, 5.869) [0.25, 0.25, 0.75]\n",
       "PeriodicSite: Ti1 (Ti) (1.956, 5.869, 1.956) [0.25, 0.75, 0.25]\n",
       "PeriodicSite: Ti1 (Ti) (1.956, 5.869, 5.869) [0.25, 0.75, 0.75]\n",
       "PeriodicSite: Ti1 (Ti) (5.869, 1.956, 1.956) [0.75, 0.25, 0.25]\n",
       "PeriodicSite: Ti1 (Ti) (5.869, 1.956, 5.869) [0.75, 0.25, 0.75]\n",
       "PeriodicSite: Ti1 (Ti) (5.869, 5.869, 1.956) [0.75, 0.75, 0.25]\n",
       "PeriodicSite: Ti1 (Ti) (5.869, 5.869, 5.869) [0.75, 0.75, 0.75]\n",
       "PeriodicSite: O2 (O) (1.956, 0.0, 1.956) [0.25, 0.0, 0.25]\n",
       "PeriodicSite: O2 (O) (1.956, 0.0, 5.869) [0.25, 0.0, 0.75]\n",
       "PeriodicSite: O2 (O) (1.956, 3.913, 1.956) [0.25, 0.5, 0.25]\n",
       "PeriodicSite: O2 (O) (1.956, 3.913, 5.869) [0.25, 0.5, 0.75]\n",
       "PeriodicSite: O2 (O) (5.869, 0.0, 1.956) [0.75, 0.0, 0.25]\n",
       "PeriodicSite: O2 (O) (5.869, 0.0, 5.869) [0.75, 0.0, 0.75]\n",
       "PeriodicSite: O2 (O) (5.869, 3.913, 1.956) [0.75, 0.5, 0.25]\n",
       "PeriodicSite: O2 (O) (5.869, 3.913, 5.869) [0.75, 0.5, 0.75]\n",
       "PeriodicSite: O3 (O) (1.956, 1.956, 2.396e-16) [0.25, 0.25, 6.163e-33]\n",
       "PeriodicSite: O3 (O) (1.956, 1.956, 3.913) [0.25, 0.25, 0.5]\n",
       "PeriodicSite: O3 (O) (1.956, 5.869, 4.792e-16) [0.25, 0.75, 0.0]\n",
       "PeriodicSite: O3 (O) (1.956, 5.869, 3.913) [0.25, 0.75, 0.5]\n",
       "PeriodicSite: O3 (O) (5.869, 1.956, 4.792e-16) [0.75, 0.25, 0.0]\n",
       "PeriodicSite: O3 (O) (5.869, 1.956, 3.913) [0.75, 0.25, 0.5]\n",
       "PeriodicSite: O3 (O) (5.869, 5.869, 7.188e-16) [0.75, 0.75, 1.233e-32]\n",
       "PeriodicSite: O3 (O) (5.869, 5.869, 3.913) [0.75, 0.75, 0.5]\n",
       "PeriodicSite: O4 (O) (-1.198e-16, 1.956, 1.956) [0.0, 0.25, 0.25]\n",
       "PeriodicSite: O4 (O) (-1.198e-16, 1.956, 5.869) [0.0, 0.25, 0.75]\n",
       "PeriodicSite: O4 (O) (-3.594e-16, 5.869, 1.956) [0.0, 0.75, 0.25]\n",
       "PeriodicSite: O4 (O) (-3.594e-16, 5.869, 5.869) [0.0, 0.75, 0.75]\n",
       "PeriodicSite: O4 (O) (3.913, 1.956, 1.956) [0.5, 0.25, 0.25]\n",
       "PeriodicSite: O4 (O) (3.913, 1.956, 5.869) [0.5, 0.25, 0.75]\n",
       "PeriodicSite: O4 (O) (3.913, 5.869, 1.956) [0.5, 0.75, 0.25]\n",
       "PeriodicSite: O4 (O) (3.913, 5.869, 5.869) [0.5, 0.75, 0.75]"
      ]
     },
     "execution_count": 2,
     "metadata": {},
     "output_type": "execute_result"
    }
   ],
   "source": [
    "from pymatgen.core.structure import Structure\n",
    "sto = Structure.from_file(\"sto.cif\")\n",
    "\n",
    "# Make supercell\n",
    "sto.make_supercell([2, 2, 2])\n",
    "sto.to(filename=\"sxc_sto.cif\")\n",
    "sto"
   ]
  },
  {
   "cell_type": "code",
   "execution_count": 3,
   "id": "fd0cc6f3-5013-45f6-8947-4d796c6993b6",
   "metadata": {},
   "outputs": [
    {
     "data": {
      "text/plain": [
       "\"# generated using pymatgen\\ndata_Sr8Ti7FeNO23\\n_symmetry_space_group_name_H-M   'P 1'\\n_cell_length_a   7.82540262\\n_cell_length_b   7.82540262\\n_cell_length_c   7.82540262\\n_cell_angle_alpha   90.00000000\\n_cell_angle_beta   90.00000000\\n_cell_angle_gamma   90.00000000\\n_symmetry_Int_Tables_number   1\\n_chemical_formula_structural   Sr8Ti7FeNO23\\n_chemical_formula_sum   'Sr8 Ti7 Fe1 N1 O23'\\n_cell_volume   479.20360245\\n_cell_formula_units_Z   1\\nloop_\\n _symmetry_equiv_pos_site_id\\n _symmetry_equiv_pos_as_xyz\\n  1  'x, y, z'\\nloop_\\n _atom_site_type_symbol\\n _atom_site_label\\n _atom_site_symmetry_multiplicity\\n _atom_site_fract_x\\n _atom_site_fract_y\\n _atom_site_fract_z\\n _atom_site_occupancy\\n  Sr  Sr0  1  0.00000000  0.00000000  0.00000000  1.0\\n  Sr  Sr0  1  0.00000000  0.00000000  0.50000000  1.0\\n  Sr  Sr0  1  0.00000000  0.50000000  0.00000000  1.0\\n  Sr  Sr0  1  0.00000000  0.50000000  0.50000000  1.0\\n  Sr  Sr0  1  0.50000000  0.00000000  0.00000000  1.0\\n  Sr  Sr0  1  0.50000000  0.00000000  0.50000000  1.0\\n  Sr  Sr0  1  0.50000000  0.50000000  0.00000000  1.0\\n  Sr  Sr0  1  0.50000000  0.50000000  0.50000000  1.0\\n  Ti  Ti1  1  0.25000000  0.25000000  0.25000000  1.0\\n  Ti  Ti1  1  0.25000000  0.25000000  0.75000000  1.0\\n  Ti  Ti1  1  0.25000000  0.75000000  0.25000000  1.0\\n  Fe  Fe11  1  0.25000000  0.75000000  0.75000000  1\\n  Ti  Ti1  1  0.75000000  0.25000000  0.25000000  1.0\\n  Ti  Ti1  1  0.75000000  0.25000000  0.75000000  1.0\\n  Ti  Ti1  1  0.75000000  0.75000000  0.25000000  1.0\\n  Ti  Ti1  1  0.75000000  0.75000000  0.75000000  1.0\\n  O  O2  1  0.25000000  0.00000000  0.25000000  1.0\\n  O  O2  1  0.25000000  0.00000000  0.75000000  1.0\\n  O  O2  1  0.25000000  0.50000000  0.25000000  1.0\\n  O  O2  1  0.25000000  0.50000000  0.75000000  1.0\\n  N  N20  1  0.75000000  0.00000000  0.25000000  1\\n  O  O2  1  0.75000000  0.00000000  0.75000000  1.0\\n  O  O2  1  0.75000000  0.50000000  0.25000000  1.0\\n  O  O2  1  0.75000000  0.50000000  0.75000000  1.0\\n  O  O3  1  0.25000000  0.25000000  0.00000000  1.0\\n  O  O3  1  0.25000000  0.25000000  0.50000000  1.0\\n  O  O3  1  0.25000000  0.75000000  0.00000000  1.0\\n  O  O3  1  0.25000000  0.75000000  0.50000000  1.0\\n  O  O3  1  0.75000000  0.25000000  0.00000000  1.0\\n  O  O3  1  0.75000000  0.25000000  0.50000000  1.0\\n  O  O3  1  0.75000000  0.75000000  0.00000000  1.0\\n  O  O3  1  0.75000000  0.75000000  0.50000000  1.0\\n  O  O4  1  0.00000000  0.25000000  0.25000000  1.0\\n  O  O4  1  0.00000000  0.25000000  0.75000000  1.0\\n  O  O4  1  0.00000000  0.75000000  0.25000000  1.0\\n  O  O4  1  0.00000000  0.75000000  0.75000000  1.0\\n  O  O4  1  0.50000000  0.25000000  0.25000000  1.0\\n  O  O4  1  0.50000000  0.25000000  0.75000000  1.0\\n  O  O4  1  0.50000000  0.75000000  0.25000000  1.0\\n  O  O4  1  0.50000000  0.75000000  0.75000000  1.0\\n\""
      ]
     },
     "execution_count": 3,
     "metadata": {},
     "output_type": "execute_result"
    }
   ],
   "source": [
    "# Substitute dopant and codopant\n",
    "sto = Structure.from_file(\"sto.cif\")\n",
    "\n",
    "# Make supercell\n",
    "sto.make_supercell([2, 2, 2])\n",
    "\n",
    "# Fe, N \n",
    "sto.replace( 11, 'Fe' )\n",
    "sto.replace( 20, 'N' )\n",
    "\n",
    "sto.to('Fe_N_sto.cif')"
   ]
  },
  {
   "cell_type": "code",
   "execution_count": 4,
   "id": "c0549ad7-fae0-4652-8b54-03d4f1f88436",
   "metadata": {},
   "outputs": [
    {
     "data": {
      "text/plain": [
       "\"# generated using pymatgen\\ndata_Sr8Ti7MnNO23\\n_symmetry_space_group_name_H-M   'P 1'\\n_cell_length_a   7.82540262\\n_cell_length_b   7.82540262\\n_cell_length_c   7.82540262\\n_cell_angle_alpha   90.00000000\\n_cell_angle_beta   90.00000000\\n_cell_angle_gamma   90.00000000\\n_symmetry_Int_Tables_number   1\\n_chemical_formula_structural   Sr8Ti7MnNO23\\n_chemical_formula_sum   'Sr8 Ti7 Mn1 N1 O23'\\n_cell_volume   479.20360245\\n_cell_formula_units_Z   1\\nloop_\\n _symmetry_equiv_pos_site_id\\n _symmetry_equiv_pos_as_xyz\\n  1  'x, y, z'\\nloop_\\n _atom_site_type_symbol\\n _atom_site_label\\n _atom_site_symmetry_multiplicity\\n _atom_site_fract_x\\n _atom_site_fract_y\\n _atom_site_fract_z\\n _atom_site_occupancy\\n  Sr  Sr0  1  0.00000000  0.00000000  0.00000000  1.0\\n  Sr  Sr0  1  0.00000000  0.00000000  0.50000000  1.0\\n  Sr  Sr0  1  0.00000000  0.50000000  0.00000000  1.0\\n  Sr  Sr0  1  0.00000000  0.50000000  0.50000000  1.0\\n  Sr  Sr0  1  0.50000000  0.00000000  0.00000000  1.0\\n  Sr  Sr0  1  0.50000000  0.00000000  0.50000000  1.0\\n  Sr  Sr0  1  0.50000000  0.50000000  0.00000000  1.0\\n  Sr  Sr0  1  0.50000000  0.50000000  0.50000000  1.0\\n  Ti  Ti1  1  0.25000000  0.25000000  0.25000000  1.0\\n  Ti  Ti1  1  0.25000000  0.25000000  0.75000000  1.0\\n  Ti  Ti1  1  0.25000000  0.75000000  0.25000000  1.0\\n  Mn  Mn11  1  0.25000000  0.75000000  0.75000000  1\\n  Ti  Ti1  1  0.75000000  0.25000000  0.25000000  1.0\\n  Ti  Ti1  1  0.75000000  0.25000000  0.75000000  1.0\\n  Ti  Ti1  1  0.75000000  0.75000000  0.25000000  1.0\\n  Ti  Ti1  1  0.75000000  0.75000000  0.75000000  1.0\\n  O  O2  1  0.25000000  0.00000000  0.25000000  1.0\\n  O  O2  1  0.25000000  0.00000000  0.75000000  1.0\\n  O  O2  1  0.25000000  0.50000000  0.25000000  1.0\\n  O  O2  1  0.25000000  0.50000000  0.75000000  1.0\\n  N  N20  1  0.75000000  0.00000000  0.25000000  1\\n  O  O2  1  0.75000000  0.00000000  0.75000000  1.0\\n  O  O2  1  0.75000000  0.50000000  0.25000000  1.0\\n  O  O2  1  0.75000000  0.50000000  0.75000000  1.0\\n  O  O3  1  0.25000000  0.25000000  0.00000000  1.0\\n  O  O3  1  0.25000000  0.25000000  0.50000000  1.0\\n  O  O3  1  0.25000000  0.75000000  0.00000000  1.0\\n  O  O3  1  0.25000000  0.75000000  0.50000000  1.0\\n  O  O3  1  0.75000000  0.25000000  0.00000000  1.0\\n  O  O3  1  0.75000000  0.25000000  0.50000000  1.0\\n  O  O3  1  0.75000000  0.75000000  0.00000000  1.0\\n  O  O3  1  0.75000000  0.75000000  0.50000000  1.0\\n  O  O4  1  0.00000000  0.25000000  0.25000000  1.0\\n  O  O4  1  0.00000000  0.25000000  0.75000000  1.0\\n  O  O4  1  0.00000000  0.75000000  0.25000000  1.0\\n  O  O4  1  0.00000000  0.75000000  0.75000000  1.0\\n  O  O4  1  0.50000000  0.25000000  0.25000000  1.0\\n  O  O4  1  0.50000000  0.25000000  0.75000000  1.0\\n  O  O4  1  0.50000000  0.75000000  0.25000000  1.0\\n  O  O4  1  0.50000000  0.75000000  0.75000000  1.0\\n\""
      ]
     },
     "execution_count": 4,
     "metadata": {},
     "output_type": "execute_result"
    }
   ],
   "source": [
    "# Substitute dopant and codopant\n",
    "sto = Structure.from_file(\"sto.cif\")\n",
    "\n",
    "# Make supercell\n",
    "sto.make_supercell([2, 2, 2])\n",
    "\n",
    "# Mn, N \n",
    "sto.replace( 11, 'Mn' )\n",
    "sto.replace( 20, 'N' )\n",
    "\n",
    "sto.to('Mn_N_sto.cif')"
   ]
  },
  {
   "cell_type": "code",
   "execution_count": 5,
   "id": "4dced9f5-17f4-4c43-b94c-465cdd1d24e1",
   "metadata": {},
   "outputs": [
    {
     "data": {
      "text/plain": [
       "\"# generated using pymatgen\\ndata_Sr8Ti7RhNO23\\n_symmetry_space_group_name_H-M   'P 1'\\n_cell_length_a   7.82540262\\n_cell_length_b   7.82540262\\n_cell_length_c   7.82540262\\n_cell_angle_alpha   90.00000000\\n_cell_angle_beta   90.00000000\\n_cell_angle_gamma   90.00000000\\n_symmetry_Int_Tables_number   1\\n_chemical_formula_structural   Sr8Ti7RhNO23\\n_chemical_formula_sum   'Sr8 Ti7 Rh1 N1 O23'\\n_cell_volume   479.20360245\\n_cell_formula_units_Z   1\\nloop_\\n _symmetry_equiv_pos_site_id\\n _symmetry_equiv_pos_as_xyz\\n  1  'x, y, z'\\nloop_\\n _atom_site_type_symbol\\n _atom_site_label\\n _atom_site_symmetry_multiplicity\\n _atom_site_fract_x\\n _atom_site_fract_y\\n _atom_site_fract_z\\n _atom_site_occupancy\\n  Sr  Sr0  1  0.00000000  0.00000000  0.00000000  1.0\\n  Sr  Sr0  1  0.00000000  0.00000000  0.50000000  1.0\\n  Sr  Sr0  1  0.00000000  0.50000000  0.00000000  1.0\\n  Sr  Sr0  1  0.00000000  0.50000000  0.50000000  1.0\\n  Sr  Sr0  1  0.50000000  0.00000000  0.00000000  1.0\\n  Sr  Sr0  1  0.50000000  0.00000000  0.50000000  1.0\\n  Sr  Sr0  1  0.50000000  0.50000000  0.00000000  1.0\\n  Sr  Sr0  1  0.50000000  0.50000000  0.50000000  1.0\\n  Ti  Ti1  1  0.25000000  0.25000000  0.25000000  1.0\\n  Ti  Ti1  1  0.25000000  0.25000000  0.75000000  1.0\\n  Ti  Ti1  1  0.25000000  0.75000000  0.25000000  1.0\\n  Rh  Rh11  1  0.25000000  0.75000000  0.75000000  1\\n  Ti  Ti1  1  0.75000000  0.25000000  0.25000000  1.0\\n  Ti  Ti1  1  0.75000000  0.25000000  0.75000000  1.0\\n  Ti  Ti1  1  0.75000000  0.75000000  0.25000000  1.0\\n  Ti  Ti1  1  0.75000000  0.75000000  0.75000000  1.0\\n  O  O2  1  0.25000000  0.00000000  0.25000000  1.0\\n  O  O2  1  0.25000000  0.00000000  0.75000000  1.0\\n  O  O2  1  0.25000000  0.50000000  0.25000000  1.0\\n  O  O2  1  0.25000000  0.50000000  0.75000000  1.0\\n  N  N20  1  0.75000000  0.00000000  0.25000000  1\\n  O  O2  1  0.75000000  0.00000000  0.75000000  1.0\\n  O  O2  1  0.75000000  0.50000000  0.25000000  1.0\\n  O  O2  1  0.75000000  0.50000000  0.75000000  1.0\\n  O  O3  1  0.25000000  0.25000000  0.00000000  1.0\\n  O  O3  1  0.25000000  0.25000000  0.50000000  1.0\\n  O  O3  1  0.25000000  0.75000000  0.00000000  1.0\\n  O  O3  1  0.25000000  0.75000000  0.50000000  1.0\\n  O  O3  1  0.75000000  0.25000000  0.00000000  1.0\\n  O  O3  1  0.75000000  0.25000000  0.50000000  1.0\\n  O  O3  1  0.75000000  0.75000000  0.00000000  1.0\\n  O  O3  1  0.75000000  0.75000000  0.50000000  1.0\\n  O  O4  1  0.00000000  0.25000000  0.25000000  1.0\\n  O  O4  1  0.00000000  0.25000000  0.75000000  1.0\\n  O  O4  1  0.00000000  0.75000000  0.25000000  1.0\\n  O  O4  1  0.00000000  0.75000000  0.75000000  1.0\\n  O  O4  1  0.50000000  0.25000000  0.25000000  1.0\\n  O  O4  1  0.50000000  0.25000000  0.75000000  1.0\\n  O  O4  1  0.50000000  0.75000000  0.25000000  1.0\\n  O  O4  1  0.50000000  0.75000000  0.75000000  1.0\\n\""
      ]
     },
     "execution_count": 5,
     "metadata": {},
     "output_type": "execute_result"
    }
   ],
   "source": [
    "# Substitute dopant and codopant\n",
    "sto = Structure.from_file(\"sto.cif\")\n",
    "\n",
    "# Make supercell\n",
    "sto.make_supercell([2, 2, 2])\n",
    "\n",
    "# Rh, N \n",
    "sto.replace( 11, 'Rh' )\n",
    "sto.replace( 20, 'N' )\n",
    "\n",
    "sto.to('Rh_N_sto.cif')"
   ]
  },
  {
   "cell_type": "code",
   "execution_count": 6,
   "id": "fb0aad95-60a0-4143-a702-2c3731a14fa3",
   "metadata": {},
   "outputs": [
    {
     "data": {
      "text/plain": [
       "\"# generated using pymatgen\\ndata_Sr8Ti7IrNO23\\n_symmetry_space_group_name_H-M   'P 1'\\n_cell_length_a   7.82540262\\n_cell_length_b   7.82540262\\n_cell_length_c   7.82540262\\n_cell_angle_alpha   90.00000000\\n_cell_angle_beta   90.00000000\\n_cell_angle_gamma   90.00000000\\n_symmetry_Int_Tables_number   1\\n_chemical_formula_structural   Sr8Ti7IrNO23\\n_chemical_formula_sum   'Sr8 Ti7 Ir1 N1 O23'\\n_cell_volume   479.20360245\\n_cell_formula_units_Z   1\\nloop_\\n _symmetry_equiv_pos_site_id\\n _symmetry_equiv_pos_as_xyz\\n  1  'x, y, z'\\nloop_\\n _atom_site_type_symbol\\n _atom_site_label\\n _atom_site_symmetry_multiplicity\\n _atom_site_fract_x\\n _atom_site_fract_y\\n _atom_site_fract_z\\n _atom_site_occupancy\\n  Sr  Sr0  1  0.00000000  0.00000000  0.00000000  1.0\\n  Sr  Sr0  1  0.00000000  0.00000000  0.50000000  1.0\\n  Sr  Sr0  1  0.00000000  0.50000000  0.00000000  1.0\\n  Sr  Sr0  1  0.00000000  0.50000000  0.50000000  1.0\\n  Sr  Sr0  1  0.50000000  0.00000000  0.00000000  1.0\\n  Sr  Sr0  1  0.50000000  0.00000000  0.50000000  1.0\\n  Sr  Sr0  1  0.50000000  0.50000000  0.00000000  1.0\\n  Sr  Sr0  1  0.50000000  0.50000000  0.50000000  1.0\\n  Ti  Ti1  1  0.25000000  0.25000000  0.25000000  1.0\\n  Ti  Ti1  1  0.25000000  0.25000000  0.75000000  1.0\\n  Ti  Ti1  1  0.25000000  0.75000000  0.25000000  1.0\\n  Ir  Ir11  1  0.25000000  0.75000000  0.75000000  1\\n  Ti  Ti1  1  0.75000000  0.25000000  0.25000000  1.0\\n  Ti  Ti1  1  0.75000000  0.25000000  0.75000000  1.0\\n  Ti  Ti1  1  0.75000000  0.75000000  0.25000000  1.0\\n  Ti  Ti1  1  0.75000000  0.75000000  0.75000000  1.0\\n  O  O2  1  0.25000000  0.00000000  0.25000000  1.0\\n  O  O2  1  0.25000000  0.00000000  0.75000000  1.0\\n  O  O2  1  0.25000000  0.50000000  0.25000000  1.0\\n  O  O2  1  0.25000000  0.50000000  0.75000000  1.0\\n  N  N20  1  0.75000000  0.00000000  0.25000000  1\\n  O  O2  1  0.75000000  0.00000000  0.75000000  1.0\\n  O  O2  1  0.75000000  0.50000000  0.25000000  1.0\\n  O  O2  1  0.75000000  0.50000000  0.75000000  1.0\\n  O  O3  1  0.25000000  0.25000000  0.00000000  1.0\\n  O  O3  1  0.25000000  0.25000000  0.50000000  1.0\\n  O  O3  1  0.25000000  0.75000000  0.00000000  1.0\\n  O  O3  1  0.25000000  0.75000000  0.50000000  1.0\\n  O  O3  1  0.75000000  0.25000000  0.00000000  1.0\\n  O  O3  1  0.75000000  0.25000000  0.50000000  1.0\\n  O  O3  1  0.75000000  0.75000000  0.00000000  1.0\\n  O  O3  1  0.75000000  0.75000000  0.50000000  1.0\\n  O  O4  1  0.00000000  0.25000000  0.25000000  1.0\\n  O  O4  1  0.00000000  0.25000000  0.75000000  1.0\\n  O  O4  1  0.00000000  0.75000000  0.25000000  1.0\\n  O  O4  1  0.00000000  0.75000000  0.75000000  1.0\\n  O  O4  1  0.50000000  0.25000000  0.25000000  1.0\\n  O  O4  1  0.50000000  0.25000000  0.75000000  1.0\\n  O  O4  1  0.50000000  0.75000000  0.25000000  1.0\\n  O  O4  1  0.50000000  0.75000000  0.75000000  1.0\\n\""
      ]
     },
     "execution_count": 6,
     "metadata": {},
     "output_type": "execute_result"
    }
   ],
   "source": [
    "# Substitute dopant and codopant\n",
    "sto = Structure.from_file(\"sto.cif\")\n",
    "\n",
    "# Make supercell\n",
    "sto.make_supercell([2, 2, 2])\n",
    "\n",
    "# Ir, N \n",
    "sto.replace( 11, 'Ir' )\n",
    "sto.replace( 20, 'N' )\n",
    "\n",
    "sto.to('Ir_N_sto.cif')"
   ]
  },
  {
   "cell_type": "code",
   "execution_count": 19,
   "id": "1914160b-d029-44c1-8052-397189042602",
   "metadata": {},
   "outputs": [
    {
     "data": {
      "application/vnd.jupyter.widget-view+json": {
       "model_id": "34fe04fc5c624de4af330a4422dfb390",
       "version_major": 2,
       "version_minor": 0
      },
      "text/plain": [
       "Retrieving MaterialsDoc documents:   0%|          | 0/1 [00:00<?, ?it/s]"
      ]
     },
     "metadata": {},
     "output_type": "display_data"
    },
    {
     "data": {
      "text/plain": [
       "\"# generated using pymatgen\\ndata_Ca\\n_symmetry_space_group_name_H-M   'P 1'\\n_cell_length_a   6.97731268\\n_cell_length_b   6.97731268\\n_cell_length_c   6.97731268\\n_cell_angle_alpha   90.00000000\\n_cell_angle_beta   90.00000000\\n_cell_angle_gamma   90.00000000\\n_symmetry_Int_Tables_number   1\\n_chemical_formula_structural   Ca\\n_chemical_formula_sum   Ca8\\n_cell_volume   339.67576129\\n_cell_formula_units_Z   8\\nloop_\\n _symmetry_equiv_pos_site_id\\n _symmetry_equiv_pos_as_xyz\\n  1  'x, y, z'\\nloop_\\n _atom_site_type_symbol\\n _atom_site_label\\n _atom_site_symmetry_multiplicity\\n _atom_site_fract_x\\n _atom_site_fract_y\\n _atom_site_fract_z\\n _atom_site_occupancy\\n  Ca  Ca0  1  0.00000000  0.00000000  0.00000000  1\\n  Ca  Ca1  1  0.00000000  0.00000000  0.50000000  1\\n  Ca  Ca2  1  0.00000000  0.50000000  0.00000000  1\\n  Ca  Ca3  1  0.00000000  0.50000000  0.50000000  1\\n  Ca  Ca4  1  0.50000000  0.00000000  0.00000000  1\\n  Ca  Ca5  1  0.50000000  0.00000000  0.50000000  1\\n  Ca  Ca6  1  0.50000000  0.50000000  0.00000000  1\\n  Ca  Ca7  1  0.50000000  0.50000000  0.50000000  1\\n\""
      ]
     },
     "execution_count": 19,
     "metadata": {},
     "output_type": "execute_result"
    }
   ],
   "source": [
    "ca = mpr.get_structure_by_material_id(\"mp-10683\")\n",
    "ca.to(filename=\"ca.cif\")\n",
    "\n",
    "import nglview as nv\n",
    "nv.show_pymatgen(ca)\n",
    "\n",
    "ca.make_supercell([2, 2, 2])\n",
    "ca.to('ca_222.cif')"
   ]
  },
  {
   "cell_type": "code",
   "execution_count": 17,
   "id": "63a21d55-7b5a-48c9-9195-4c4f5256da36",
   "metadata": {},
   "outputs": [
    {
     "data": {
      "text/plain": [
       "\"# generated using pymatgen\\ndata_Ca\\n_symmetry_space_group_name_H-M   'P 1'\\n_cell_length_a   6.97731268\\n_cell_length_b   6.97731268\\n_cell_length_c   6.97731268\\n_cell_angle_alpha   90.00000000\\n_cell_angle_beta   90.00000000\\n_cell_angle_gamma   90.00000000\\n_symmetry_Int_Tables_number   1\\n_chemical_formula_structural   Ca\\n_chemical_formula_sum   Ca8\\n_cell_volume   339.67576129\\n_cell_formula_units_Z   8\\nloop_\\n _symmetry_equiv_pos_site_id\\n _symmetry_equiv_pos_as_xyz\\n  1  'x, y, z'\\nloop_\\n _atom_site_type_symbol\\n _atom_site_label\\n _atom_site_symmetry_multiplicity\\n _atom_site_fract_x\\n _atom_site_fract_y\\n _atom_site_fract_z\\n _atom_site_occupancy\\n  Ca  Ca0  1  0.00000000  0.00000000  0.00000000  1\\n  Ca  Ca1  1  0.00000000  0.00000000  0.50000000  1\\n  Ca  Ca2  1  0.00000000  0.50000000  0.00000000  1\\n  Ca  Ca3  1  0.00000000  0.50000000  0.50000000  1\\n  Ca  Ca4  1  0.50000000  0.00000000  0.00000000  1\\n  Ca  Ca5  1  0.50000000  0.00000000  0.50000000  1\\n  Ca  Ca6  1  0.50000000  0.50000000  0.00000000  1\\n  Ca  Ca7  1  0.50000000  0.50000000  0.50000000  1\\n\""
      ]
     },
     "execution_count": 17,
     "metadata": {},
     "output_type": "execute_result"
    }
   ],
   "source": []
  },
  {
   "cell_type": "code",
   "execution_count": 3,
   "id": "f45aaad3-3b4f-4b1a-b141-61369ebb1eab",
   "metadata": {},
   "outputs": [],
   "source": [
    "from pymatgen.core.structure import Structure, Lattice"
   ]
  },
  {
   "cell_type": "code",
   "execution_count": 4,
   "id": "448dd368-80ab-4164-a0a8-8dab6bca780e",
   "metadata": {},
   "outputs": [
    {
     "data": {
      "text/plain": [
       "\u001b[0;31mInit signature:\u001b[0m\n",
       "\u001b[0mLattice\u001b[0m\u001b[0;34m(\u001b[0m\u001b[0;34m\u001b[0m\n",
       "\u001b[0;34m\u001b[0m    \u001b[0mmatrix\u001b[0m\u001b[0;34m:\u001b[0m \u001b[0;34m'ArrayLike'\u001b[0m\u001b[0;34m,\u001b[0m\u001b[0;34m\u001b[0m\n",
       "\u001b[0;34m\u001b[0m    \u001b[0mpbc\u001b[0m\u001b[0;34m:\u001b[0m \u001b[0;34m'tuple[bool, bool, bool]'\u001b[0m \u001b[0;34m=\u001b[0m \u001b[0;34m(\u001b[0m\u001b[0;32mTrue\u001b[0m\u001b[0;34m,\u001b[0m \u001b[0;32mTrue\u001b[0m\u001b[0;34m,\u001b[0m \u001b[0;32mTrue\u001b[0m\u001b[0;34m)\u001b[0m\u001b[0;34m,\u001b[0m\u001b[0;34m\u001b[0m\n",
       "\u001b[0;34m\u001b[0m\u001b[0;34m)\u001b[0m\u001b[0;34m\u001b[0m\u001b[0;34m\u001b[0m\u001b[0m\n",
       "\u001b[0;31mDocstring:\u001b[0m     \n",
       "A lattice object. Essentially a matrix with conversion matrices. In\n",
       "general, it is assumed that length units are in Angstroms and angles are in\n",
       "degrees unless otherwise stated.\n",
       "\u001b[0;31mInit docstring:\u001b[0m\n",
       "Create a lattice from any sequence of 9 numbers. Note that the sequence\n",
       "is assumed to be read one row at a time. Each row represents one\n",
       "lattice vector.\n",
       "\n",
       "Args:\n",
       "    matrix: Sequence of numbers in any form. Examples of acceptable\n",
       "        input.\n",
       "        i) An actual numpy array.\n",
       "        ii) [[1, 0, 0], [0, 1, 0], [0, 0, 1]]\n",
       "        iii) [1, 0, 0 , 0, 1, 0, 0, 0, 1]\n",
       "        iv) (1, 0, 0, 0, 1, 0, 0, 0, 1)\n",
       "        Each row should correspond to a lattice vector.\n",
       "        E.g., [[10, 0, 0], [20, 10, 0], [0, 0, 30]] specifies a lattice\n",
       "        with lattice vectors [10, 0, 0], [20, 10, 0] and [0, 0, 30].\n",
       "    pbc: a tuple defining the periodic boundary conditions along the three\n",
       "        axis of the lattice. If None periodic in all directions.\n",
       "\u001b[0;31mFile:\u001b[0m           ~/.local/lib/python3.10/site-packages/pymatgen/core/lattice.py\n",
       "\u001b[0;31mType:\u001b[0m           type\n",
       "\u001b[0;31mSubclasses:\u001b[0m     "
      ]
     },
     "metadata": {},
     "output_type": "display_data"
    }
   ],
   "source": [
    "Lattice?"
   ]
  },
  {
   "cell_type": "code",
   "execution_count": 32,
   "id": "6c64a764-0fb3-4e32-be57-ad3a8e5e7035",
   "metadata": {},
   "outputs": [
    {
     "data": {
      "text/plain": [
       "\"# generated using pymatgen\\ndata_Ca\\n_symmetry_space_group_name_H-M   'P 1'\\n_cell_length_a   4.00000000\\n_cell_length_b   4.00000000\\n_cell_length_c   4.00000000\\n_cell_angle_alpha   90.00000000\\n_cell_angle_beta   90.00000000\\n_cell_angle_gamma   90.00000000\\n_symmetry_Int_Tables_number   1\\n_chemical_formula_structural   Ca\\n_chemical_formula_sum   Ca5\\n_cell_volume   64.00000000\\n_cell_formula_units_Z   5\\nloop_\\n _symmetry_equiv_pos_site_id\\n _symmetry_equiv_pos_as_xyz\\n  1  'x, y, z'\\nloop_\\n _atom_site_type_symbol\\n _atom_site_label\\n _atom_site_symmetry_multiplicity\\n _atom_site_fract_x\\n _atom_site_fract_y\\n _atom_site_fract_z\\n _atom_site_occupancy\\n  Ca  Ca0  1  0.00000000  0.00000000  0.00000000  1\\n  Ca  Ca1  1  0.50000000  0.50000000  0.50000000  1\\n  Ca  Ca2  1  0.00000000  0.50000000  0.50000000  1\\n  Ca  Ca3  1  0.50000000  0.00000000  0.50000000  1\\n  Ca  Ca4  1  0.50000000  0.50000000  0.00000000  1\\n\""
      ]
     },
     "execution_count": 32,
     "metadata": {},
     "output_type": "execute_result"
    }
   ],
   "source": [
    "import nglview as nv\n",
    "\n",
    "ca = Structure(\n",
    "    lattice = [[4, 0, 0], [0, 4, 0], [0, 0, 4]],\n",
    "    species = ['Ca', 'Ca', 'Ca', 'Ca', 'Ca'],\n",
    "    coords  = [\n",
    "        [0.0, 0.0, 0.0],\n",
    "        [0.5, 0.5, 0.5],\n",
    "        [0.0, 0.5, 0.5],\n",
    "        [0.5, 0.0, 0.5],\n",
    "        [0.5, 0.5, 0.0],\n",
    "              ],   \n",
    ")\n",
    "\n",
    "ca.to('/Users/marcodigennaro/WORK/TME/STO/Inputfiles/CIF/Ca_222.cif')"
   ]
  },
  {
   "cell_type": "code",
   "execution_count": 31,
   "id": "8782cc8a-af13-4b6c-8ae9-1ac6876da338",
   "metadata": {},
   "outputs": [
    {
     "data": {
      "text/plain": [
       "Structure Summary\n",
       "Lattice\n",
       "    abc : 4.0 4.0 4.0\n",
       " angles : 90.0 90.0 90.0\n",
       " volume : 64.0\n",
       "      A : 4.0 0.0 0.0\n",
       "      B : 0.0 4.0 0.0\n",
       "      C : 0.0 0.0 4.0\n",
       "    pbc : True True True\n",
       "PeriodicSite: Ca (0.0, 0.0, 0.0) [0.0, 0.0, 0.0]\n",
       "PeriodicSite: Ca (2.0, 2.0, 2.0) [0.5, 0.5, 0.5]\n",
       "PeriodicSite: Ca (0.0, 2.0, 2.0) [0.0, 0.5, 0.5]\n",
       "PeriodicSite: Ca (2.0, 0.0, 2.0) [0.5, 0.0, 0.5]\n",
       "PeriodicSite: Ca (2.0, 2.0, 0.0) [0.5, 0.5, 0.0]"
      ]
     },
     "execution_count": 31,
     "metadata": {},
     "output_type": "execute_result"
    }
   ],
   "source": []
  },
  {
   "cell_type": "code",
   "execution_count": 30,
   "id": "27141acb-819a-496e-98c0-4019bc9dfdb8",
   "metadata": {},
   "outputs": [
    {
     "data": {
      "text/plain": [
       "Structure Summary\n",
       "Lattice\n",
       "    abc : 3.91270131 3.91270131 3.91270131\n",
       " angles : 90.0 90.0 90.0\n",
       " volume : 59.90045030664282\n",
       "      A : 3.91270131 0.0 2.395838567655578e-16\n",
       "      B : -2.395838567655578e-16 3.91270131 2.395838567655578e-16\n",
       "      C : 0.0 0.0 3.91270131\n",
       "    pbc : True True True\n",
       "PeriodicSite: Sr0 (Sr) (0.0, 0.0, 0.0) [0.0, 0.0, 0.0]\n",
       "PeriodicSite: Ti1 (Ti) (1.956, 1.956, 1.956) [0.5, 0.5, 0.5]\n",
       "PeriodicSite: O2 (O) (1.956, 0.0, 1.956) [0.5, 0.0, 0.5]\n",
       "PeriodicSite: O3 (O) (1.956, 1.956, 2.396e-16) [0.5, 0.5, 0.0]\n",
       "PeriodicSite: O4 (O) (-1.198e-16, 1.956, 1.956) [0.0, 0.5, 0.5]"
      ]
     },
     "execution_count": 30,
     "metadata": {},
     "output_type": "execute_result"
    }
   ],
   "source": [
    "sto = Structure.from_file('/Users/marcodigennaro/WORK/TME/STO/Inputfiles/CIF/sto.cif')\n",
    "sto"
   ]
  },
  {
   "cell_type": "code",
   "execution_count": 17,
   "id": "d47ba2dc-d689-448e-912a-26e1cf519833",
   "metadata": {},
   "outputs": [
    {
     "data": {
      "application/vnd.jupyter.widget-view+json": {
       "model_id": "998220839fd64e82883b5dcd8206be25",
       "version_major": 2,
       "version_minor": 0
      },
      "text/plain": [
       "NGLWidget()"
      ]
     },
     "metadata": {},
     "output_type": "display_data"
    }
   ],
   "source": [
    "nv.show_pymatgen(sto)"
   ]
  },
  {
   "cell_type": "code",
   "execution_count": null,
   "id": "166ac2c2-3579-4d5d-acdf-7652023f0448",
   "metadata": {},
   "outputs": [],
   "source": []
  }
 ],
 "metadata": {
  "kernelspec": {
   "display_name": "Python 3 (ipykernel)",
   "language": "python",
   "name": "python3"
  },
  "language_info": {
   "codemirror_mode": {
    "name": "ipython",
    "version": 3
   },
   "file_extension": ".py",
   "mimetype": "text/x-python",
   "name": "python",
   "nbconvert_exporter": "python",
   "pygments_lexer": "ipython3",
   "version": "3.10.12"
  }
 },
 "nbformat": 4,
 "nbformat_minor": 5
}
